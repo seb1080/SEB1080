{
 "cells": [
  {
   "cell_type": "code",
   "execution_count": 4,
   "metadata": {},
   "outputs": [
    {
     "name": "stdout",
     "output_type": "stream",
     "text": [
      "your just created a function!\n"
     ]
    }
   ],
   "source": [
    "# Chapter 10 - Functions\n",
    "def a_function():\n",
    "    print(\"your just created a function!\")\n",
    "\n",
    "a_function()"
   ]
  },
  {
   "cell_type": "code",
   "execution_count": 7,
   "metadata": {},
   "outputs": [],
   "source": [
    "# Empty function (the stub)\n",
    "def empty_function():\n",
    "    pass"
   ]
  },
  {
   "cell_type": "code",
   "execution_count": null,
   "metadata": {},
   "outputs": [],
   "source": [
    "def add(a, b):\n",
    "        return a + b\n",
    "\n",
    "add(1, 2)"
   ]
  },
  {
   "cell_type": "code",
   "execution_count": 10,
   "metadata": {},
   "outputs": [
    {
     "data": {
      "text/plain": [
       "10"
      ]
     },
     "execution_count": 10,
     "metadata": {},
     "output_type": "execute_result"
    }
   ],
   "source": [
    "# Keyword arguments\n",
    "def keyword_function(a=1, b=2):\n",
    "        return a+b\n",
    "\n",
    "keyword_function(b=4, a=5)\n",
    "\n",
    "def mixed_function(a, b=2, c=3):\n",
    "    return a+b+c\n",
    "\n",
    "mixed_function(1, b=4, c=5)"
   ]
  },
  {
   "cell_type": "code",
   "execution_count": 11,
   "metadata": {},
   "outputs": [
    {
     "name": "stdout",
     "output_type": "stream",
     "text": [
      "(1, 2, 3, 4, 5)\n",
      "{}\n"
     ]
    }
   ],
   "source": [
    "def many(*args, **kwargs):\n",
    "        print(args)\n",
    "        print(kwargs)\n",
    "\n",
    "many(1,2,3,4,5)"
   ]
  }
 ],
 "metadata": {
  "kernelspec": {
   "display_name": "base",
   "language": "python",
   "name": "python3"
  },
  "language_info": {
   "codemirror_mode": {
    "name": "ipython",
    "version": 3
   },
   "file_extension": ".py",
   "mimetype": "text/x-python",
   "name": "python",
   "nbconvert_exporter": "python",
   "pygments_lexer": "ipython3",
   "version": "3.11.0"
  },
  "orig_nbformat": 4
 },
 "nbformat": 4,
 "nbformat_minor": 2
}
