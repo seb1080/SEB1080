{
 "cells": [
  {
   "cell_type": "markdown",
   "metadata": {},
   "source": [
    "# Object oriented programming in Python\n",
    "\n",
    "OOP is a programming paradigm, It's based on the idea of grouping related\n",
    "data and functions into objects.\n",
    "\n",
    "## Benefits of OPP\n",
    "\n",
    "Data encapsulation: is about hiding data away from the rest of the system and only allowing access to part of it.\n",
    "\n",
    "Simplicity: Being able to break down the complexity into smaller problems, to objects, means you can simplify the overall task.\n",
    "\n",
    "Easy to modify: It is easier to identify and modify section of code.\n",
    "\n",
    "Maintainability:\n",
    "\n",
    "Reusability: Object definition can be use many time in many part of the system."
   ]
  },
  {
   "cell_type": "code",
   "execution_count": 5,
   "metadata": {},
   "outputs": [],
   "source": [
    "class Dog:\n",
    "    species = \"Canis familiaris\"\n",
    "    def __init__(self, name, age, sex= \"male\"):\n",
    "        self.name = name\n",
    "        self.age = age\n",
    "        self.sex = sex\n",
    "\n",
    "    def description(self):\n",
    "        return f\"{self.name} is {self.age} years old\"\n",
    "\n",
    "    def __str__(self):\n",
    "        return f\"{self.name} is {self.age} years old\"\n",
    "\n",
    "    def speak(self, sound):\n",
    "        return f\"{self.name} says {sound}\""
   ]
  },
  {
   "cell_type": "markdown",
   "metadata": {},
   "source": []
  },
  {
   "cell_type": "code",
   "execution_count": 8,
   "metadata": {},
   "outputs": [
    {
     "data": {
      "text/plain": [
       "'Miles says Miles sound'"
      ]
     },
     "execution_count": 8,
     "metadata": {},
     "output_type": "execute_result"
    }
   ],
   "source": [
    "miles = Dog(\"Miles\", 4, \"female\")\n",
    "buddy = Dog(\"Buddy\", 9)\n",
    "\n",
    "miles.description()\n",
    "miles.speak(\"Miles sound\")"
   ]
  },
  {
   "cell_type": "code",
   "execution_count": 15,
   "metadata": {},
   "outputs": [
    {
     "name": "stdout",
     "output_type": "stream",
     "text": [
      "my-van is gray\n",
      "my-rav4 is grey\n"
     ]
    }
   ],
   "source": [
    "# Create a car Class\n",
    "\n",
    "class Car(object):\n",
    "    def __init__(self, color, name, engine):\n",
    "        self.color = color\n",
    "        self.name = name\n",
    "        self.engine = engine\n",
    "\n",
    "    def description(self):\n",
    "        return f\"{self.name} is {self.color}\"\n",
    "\n",
    "\n",
    "van = Car('gray', 'my-van', '4.6')\n",
    "rav4 = Car('grey', 'my-rav4', '2.5')\n",
    "\n",
    "for car in (van, rav4):\n",
    "    print(car.description())"
   ]
  },
  {
   "cell_type": "markdown",
   "metadata": {},
   "source": [
    "# Inheritance"
   ]
  },
  {
   "cell_type": "code",
   "execution_count": 21,
   "metadata": {},
   "outputs": [
    {
     "name": "stdout",
     "output_type": "stream",
     "text": [
      "['English', 'German']\n"
     ]
    }
   ],
   "source": [
    "class Parent:\n",
    "    hair_color = \"black\"\n",
    "    speaks = [\"English\"]\n",
    "\n",
    "class Child(Parent):\n",
    "    hair_color = \"purple\"\n",
    "\n",
    "    def __init__(self):\n",
    "        super().__init__()\n",
    "        self.speaks.append(\"German\")\n",
    "\n",
    "    def __str__(self):\n",
    "        return f\"{self.name} is {self.age} years old\"\n",
    "\n",
    "    def speak(self, sound):\n",
    "        return f\"{self.name} says {sound}\"\n",
    "\n",
    "seb = Child()\n",
    "\n",
    "print(seb.speaks)"
   ]
  }
 ],
 "metadata": {
  "kernelspec": {
   "display_name": "base",
   "language": "python",
   "name": "python3"
  },
  "language_info": {
   "codemirror_mode": {
    "name": "ipython",
    "version": 3
   },
   "file_extension": ".py",
   "mimetype": "text/x-python",
   "name": "python",
   "nbconvert_exporter": "python",
   "pygments_lexer": "ipython3",
   "version": "3.11.0"
  }
 },
 "nbformat": 4,
 "nbformat_minor": 2
}
