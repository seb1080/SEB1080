{
 "cells": [
  {
   "cell_type": "markdown",
   "metadata": {},
   "source": [
    "# Chapter 11 - Class\n",
    "Everything in python is an object."
   ]
  },
  {
   "cell_type": "code",
   "execution_count": 1,
   "metadata": {},
   "outputs": [
    {
     "name": "stdout",
     "output_type": "stream",
     "text": [
      "blue\n",
      "Braking\n",
      "I'm driving!\n"
     ]
    }
   ],
   "source": [
    "# Creating a class\n",
    "class Vehicle(object):\n",
    "    def __init__(self, color, doors, tires):\n",
    "        self.color = color\n",
    "        self.doors = doors\n",
    "        self.tires = tires\n",
    "\n",
    "    def brake(self):\n",
    "        return \"Braking\"\n",
    "\n",
    "    def drive(self):\n",
    "        return \"I'm driving!\"\n",
    "\n",
    "if __name__ == \"__main__\":\n",
    "    car = Vehicle(\"blue\", 5, 4)\n",
    "    truck = Vehicle(\"red\", 3, 6)\n",
    "\n",
    "    print(car.color)\n",
    "    print(car.brake())\n",
    "    print(car.drive())\n"
   ]
  },
  {
   "cell_type": "markdown",
   "metadata": {},
   "source": [
    "When working with classes in Python, the term “self” refers to the instance of the class that is currently being used."
   ]
  },
  {
   "cell_type": "code",
   "execution_count": 2,
   "metadata": {},
   "outputs": [
    {
     "name": "stdout",
     "output_type": "stream",
     "text": [
      "car braking\n",
      "I'm driving a blue car!\n",
      "I'm driving a red truck!\n",
      "truck braking\n"
     ]
    }
   ],
   "source": [
    "class Vehicle(object):\n",
    "    def __init__(self, color, doors, tires, vtype):\n",
    "        self.color = color\n",
    "        self.doors = doors\n",
    "        self.tires = tires\n",
    "        self.vtype = vtype\n",
    "\n",
    "    def brake(self):\n",
    "        return \"%s braking\" % self.vtype\n",
    "\n",
    "    def drive(self):\n",
    "        return \"I'm driving a %s %s!\" % (self.color, self.vtype)\n",
    "\n",
    "if __name__ == \"__main__\":\n",
    "    car = Vehicle(\"blue\", 5, 4, \"car\")\n",
    "    print(car.brake())\n",
    "    print(car.drive())\n",
    "\n",
    "    truck = Vehicle(\"red\", 3, 6, \"truck\")\n",
    "    print(truck.drive())\n",
    "    print(truck.brake())"
   ]
  },
  {
   "cell_type": "code",
   "execution_count": 3,
   "metadata": {},
   "outputs": [],
   "source": [
    "# Subclass\n",
    "class Car(Vehicle):\n",
    "    def brake(self):\n",
    "        \"\"\"\n",
    "        Override brake method\n",
    "        \"\"\"\n",
    "        return \"The car class is breaking slowly!\"\n",
    "\n",
    "if __name__ == \"__main__\":\n",
    "    car = Car(\"yellow\", 2, 4, \"car\")\n",
    "    car.brake()\n",
    "    'The car class is breaking slowly!'\n",
    "    car.drive()\n",
    "    \"I'm driving a yellow car!\""
   ]
  },
  {
   "cell_type": "code",
   "execution_count": null,
   "metadata": {},
   "outputs": [],
   "source": []
  }
 ],
 "metadata": {
  "kernelspec": {
   "display_name": "base",
   "language": "python",
   "name": "python3"
  },
  "language_info": {
   "codemirror_mode": {
    "name": "ipython",
    "version": 3
   },
   "file_extension": ".py",
   "mimetype": "text/x-python",
   "name": "python",
   "nbconvert_exporter": "python",
   "pygments_lexer": "ipython3",
   "version": "3.11.0"
  },
  "orig_nbformat": 4
 },
 "nbformat": 4,
 "nbformat_minor": 2
}
