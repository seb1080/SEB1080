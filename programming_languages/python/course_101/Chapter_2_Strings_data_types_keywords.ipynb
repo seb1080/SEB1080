{
 "cells": [
  {
   "cell_type": "code",
   "execution_count": 1,
   "metadata": {},
   "outputs": [
    {
     "name": "stdout",
     "output_type": "stream",
     "text": [
      "Hello World!\n"
     ]
    }
   ],
   "source": [
    "print(\"Hello World!\")"
   ]
  },
  {
   "cell_type": "markdown",
   "metadata": {},
   "source": [
    "# Python Build-in Data type\n",
    "\n",
    "|Text Type|  str    |         |          |\n",
    "|---------|---------|---------|----------|\n",
    "|Numeric  |  int    |  float  | complex  |\n",
    "|Sequence |  list   |  tuple  | range    |\n",
    "|Mapping  |  dict   |         |          |\n",
    "|Set Types|  set    |frozenset|          |\n",
    "|Boolean  | bool    |         |          |\n",
    "|Binary   | bytes   |bytearray|memoryview|\n",
    "|None     |None type|         |          |\n",
    "\n",
    "## Data type mutable\n",
    "- List\n",
    "- dictionaries\n",
    "- sets\n",
    "\n",
    "## Data type immutable\n",
    "- String\n",
    "- tuples"
   ]
  },
  {
   "cell_type": "markdown",
   "metadata": {},
   "source": [
    "# python keywords\n",
    "\n",
    "and       del       from      not       while\n",
    "as        elif      global    or        with\n",
    "assert    else      if        pass      yield\n",
    "break     except    import    print\n",
    "class     exec      in        raise\n",
    "continue  finally   is        return\n",
    "def       for       lambda    try"
   ]
  },
  {
   "cell_type": "code",
   "execution_count": 1,
   "metadata": {},
   "outputs": [
    {
     "name": "stdout",
     "output_type": "stream",
     "text": [
      "I like python\n",
      "I like cookies\n",
      "I like Python and cookies\n"
     ]
    },
    {
     "data": {
      "text/plain": [
       "'gnirts wen a si siht'"
      ]
     },
     "execution_count": 1,
     "metadata": {},
     "output_type": "execute_result"
    }
   ],
   "source": [
    "# Python data type  string.\n",
    "my_string = \"new string in python\"\n",
    "\n",
    "multiLinestring = '''MultiLine string\n",
    "substring'''\n",
    "\n",
    "my_string = \"I'm a Python programmer!\"\n",
    "otherString = 'The word \"python\" usually refers to a snake'\n",
    "tripleString = \"\"\"Here's another way to embed \"quotes\" in a string\"\"\"\n",
    "\n",
    "# String in python are immutable type.\n",
    "new_string = \"abc\"\n",
    "new_string = \"def\"\n",
    "initial_new_string = id(new_string)\n",
    "\n",
    "# String formatting\n",
    "my_string = \"I like %s\" % \"python\"\n",
    "print(my_string)\n",
    "\n",
    "var = \"cookies\"\n",
    "newString = \"I like %s\" % var\n",
    "print(newString)\n",
    "\n",
    "another_string = \"I like %s and %s\" % (\"Python\", var)\n",
    "another_string\n",
    "print(another_string)\n",
    "\n",
    "# reverse a string\n",
    "newString = \"this is a new string\"\n",
    "newString[::-1]"
   ]
  },
  {
   "cell_type": "code",
   "execution_count": null,
   "metadata": {},
   "outputs": [
    {
     "name": "stdout",
     "output_type": "stream",
     "text": [
      "Python is fun!\n",
      "SPAM SPAM SPAM !\n"
     ]
    }
   ],
   "source": [
    "# Template and new string formatting\n",
    "print(\"%(lang)s is fun!\" % {\"lang\":\"Python\"})\n",
    "\n",
    "print(\"%(value)s %(value)s %(value)s !\" % {\"value\":\"SPAM\"})"
   ]
  },
  {
   "cell_type": "code",
   "execution_count": null,
   "metadata": {},
   "outputs": [
    {
     "name": "stdout",
     "output_type": "stream",
     "text": [
      "first string second string\n"
     ]
    }
   ],
   "source": [
    "# String concatenation\n",
    "stringOne = \"first string\"\n",
    "stringTwo = \"second string\"\n",
    "\n",
    "final_string = stringOne + \" \" + stringTwo\n",
    "print(final_string)"
   ]
  },
  {
   "cell_type": "code",
   "execution_count": null,
   "metadata": {},
   "outputs": [
    {
     "name": "stdout",
     "output_type": "stream",
     "text": [
      "123\n"
     ]
    }
   ],
   "source": [
    "# Casting number to string\n",
    "print(str(my_number))\n",
    "\n",
    "my_number = 123\n",
    "x = int(\"123\")\n",
    "\n",
    "print(x)"
   ]
  },
  {
   "cell_type": "code",
   "execution_count": 4,
   "metadata": {},
   "outputs": [
    {
     "name": "stdout",
     "output_type": "stream",
     "text": [
      "SOME NEW STRING\n",
      "some \n"
     ]
    },
    {
     "data": {
      "text/plain": [
       "['__add__',\n",
       " '__class__',\n",
       " '__contains__',\n",
       " '__delattr__',\n",
       " '__dir__',\n",
       " '__doc__',\n",
       " '__eq__',\n",
       " '__format__',\n",
       " '__ge__',\n",
       " '__getattribute__',\n",
       " '__getitem__',\n",
       " '__getnewargs__',\n",
       " '__getstate__',\n",
       " '__gt__',\n",
       " '__hash__',\n",
       " '__init__',\n",
       " '__init_subclass__',\n",
       " '__iter__',\n",
       " '__le__',\n",
       " '__len__',\n",
       " '__lt__',\n",
       " '__mod__',\n",
       " '__mul__',\n",
       " '__ne__',\n",
       " '__new__',\n",
       " '__reduce__',\n",
       " '__reduce_ex__',\n",
       " '__repr__',\n",
       " '__rmod__',\n",
       " '__rmul__',\n",
       " '__setattr__',\n",
       " '__sizeof__',\n",
       " '__str__',\n",
       " '__subclasshook__',\n",
       " 'capitalize',\n",
       " 'casefold',\n",
       " 'center',\n",
       " 'count',\n",
       " 'encode',\n",
       " 'endswith',\n",
       " 'expandtabs',\n",
       " 'find',\n",
       " 'format',\n",
       " 'format_map',\n",
       " 'index',\n",
       " 'isalnum',\n",
       " 'isalpha',\n",
       " 'isascii',\n",
       " 'isdecimal',\n",
       " 'isdigit',\n",
       " 'isidentifier',\n",
       " 'islower',\n",
       " 'isnumeric',\n",
       " 'isprintable',\n",
       " 'isspace',\n",
       " 'istitle',\n",
       " 'isupper',\n",
       " 'join',\n",
       " 'ljust',\n",
       " 'lower',\n",
       " 'lstrip',\n",
       " 'maketrans',\n",
       " 'partition',\n",
       " 'removeprefix',\n",
       " 'removesuffix',\n",
       " 'replace',\n",
       " 'rfind',\n",
       " 'rindex',\n",
       " 'rjust',\n",
       " 'rpartition',\n",
       " 'rsplit',\n",
       " 'rstrip',\n",
       " 'split',\n",
       " 'splitlines',\n",
       " 'startswith',\n",
       " 'strip',\n",
       " 'swapcase',\n",
       " 'title',\n",
       " 'translate',\n",
       " 'upper',\n",
       " 'zfill']"
      ]
     },
     "execution_count": 4,
     "metadata": {},
     "output_type": "execute_result"
    }
   ],
   "source": [
    "# String in python are Object with methods\n",
    "newString = \"some new string\"\n",
    "print(newString.upper())\n",
    "\n",
    "# With a argument, attempt to return a list of valid attributes for that object.\n",
    "# help(newString.capitalize)\n",
    "sliced = newString[0:5]\n",
    "print(sliced)\n",
    "dir(newString)"
   ]
  }
 ],
 "metadata": {
  "kernelspec": {
   "display_name": "base",
   "language": "python",
   "name": "python3"
  },
  "language_info": {
   "codemirror_mode": {
    "name": "ipython",
    "version": 3
   },
   "file_extension": ".py",
   "mimetype": "text/x-python",
   "name": "python",
   "nbconvert_exporter": "python",
   "pygments_lexer": "ipython3",
   "version": "3.11.0"
  },
  "orig_nbformat": 4
 },
 "nbformat": 4,
 "nbformat_minor": 2
}
