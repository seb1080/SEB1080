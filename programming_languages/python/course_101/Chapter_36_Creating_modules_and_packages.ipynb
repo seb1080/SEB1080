{
 "cells": [
  {
   "cell_type": "markdown",
   "metadata": {},
   "source": [
    "Any time you save a new Python script, you have created a new module"
   ]
  },
  {
   "cell_type": "code",
   "execution_count": 4,
   "metadata": {},
   "outputs": [
    {
     "name": "stdout",
     "output_type": "stream",
     "text": [
      "13\n",
      "5\n",
      "0.2857142857142857\n",
      "72\n"
     ]
    }
   ],
   "source": [
    "import arithmetic\n",
    "\n",
    "print(arithmetic.add(5, 8))\n",
    "print(arithmetic.subtract(10, 5))\n",
    "print(arithmetic.division(2, 7))\n",
    "print(arithmetic.multiply(12, 6))"
   ]
  },
  {
   "cell_type": "markdown",
   "metadata": {},
   "source": [
    "The main difference between a module and a package is that a package is a collection of modules AND it has an __init__.py file."
   ]
  },
  {
   "cell_type": "code",
   "execution_count": 10,
   "metadata": {},
   "outputs": [
    {
     "ename": "AttributeError",
     "evalue": "module 'mymath' has no attribute 'add'",
     "output_type": "error",
     "traceback": [
      "\u001b[0;31m---------------------------------------------------------------------------\u001b[0m",
      "\u001b[0;31mAttributeError\u001b[0m                            Traceback (most recent call last)",
      "\u001b[1;32m/Users/ublai7c/repos/perso/webOneBiteAtaTime/python/course_101/Chapter_36_Creating_modules_and_packages.ipynb Cell 4\u001b[0m line \u001b[0;36m6\n\u001b[1;32m      <a href='vscode-notebook-cell:/Users/ublai7c/repos/perso/webOneBiteAtaTime/python/course_101/Chapter_36_Creating_modules_and_packages.ipynb#W4sZmlsZQ%3D%3D?line=0'>1</a>\u001b[0m \u001b[39m# import sys\u001b[39;00m\n\u001b[1;32m      <a href='vscode-notebook-cell:/Users/ublai7c/repos/perso/webOneBiteAtaTime/python/course_101/Chapter_36_Creating_modules_and_packages.ipynb#W4sZmlsZQ%3D%3D?line=1'>2</a>\u001b[0m \u001b[39m# sys.path.append('/Users/ublai7c/repos/perso/webOneBiteAtaTime/python/course_101')\u001b[39;00m\n\u001b[1;32m      <a href='vscode-notebook-cell:/Users/ublai7c/repos/perso/webOneBiteAtaTime/python/course_101/Chapter_36_Creating_modules_and_packages.ipynb#W4sZmlsZQ%3D%3D?line=3'>4</a>\u001b[0m \u001b[39mimport\u001b[39;00m \u001b[39mmymath\u001b[39;00m\n\u001b[0;32m----> <a href='vscode-notebook-cell:/Users/ublai7c/repos/perso/webOneBiteAtaTime/python/course_101/Chapter_36_Creating_modules_and_packages.ipynb#W4sZmlsZQ%3D%3D?line=5'>6</a>\u001b[0m \u001b[39mprint\u001b[39m(mymath\u001b[39m.\u001b[39madd(\u001b[39m4\u001b[39m,\u001b[39m5\u001b[39m))\n\u001b[1;32m      <a href='vscode-notebook-cell:/Users/ublai7c/repos/perso/webOneBiteAtaTime/python/course_101/Chapter_36_Creating_modules_and_packages.ipynb#W4sZmlsZQ%3D%3D?line=6'>7</a>\u001b[0m \u001b[39mprint\u001b[39m(mymath\u001b[39m.\u001b[39mdivision(\u001b[39m4\u001b[39m, \u001b[39m2\u001b[39m))\n\u001b[1;32m      <a href='vscode-notebook-cell:/Users/ublai7c/repos/perso/webOneBiteAtaTime/python/course_101/Chapter_36_Creating_modules_and_packages.ipynb#W4sZmlsZQ%3D%3D?line=7'>8</a>\u001b[0m \u001b[39mprint\u001b[39m(mymath\u001b[39m.\u001b[39mmultiply(\u001b[39m10\u001b[39m, \u001b[39m5\u001b[39m))\n",
      "\u001b[0;31mAttributeError\u001b[0m: module 'mymath' has no attribute 'add'"
     ]
    }
   ],
   "source": [
    "# import sys\n",
    "# sys.path.append('/Users/ublai7c/repos/perso/webOneBiteAtaTime/python/course_101')\n",
    "\n",
    "import mymath\n",
    "\n",
    "print(mymath.add(4,5))\n",
    "print(mymath.division(4, 2))\n",
    "print(mymath.multiply(10, 5))\n",
    "print(mymath.squareroot(48))"
   ]
  },
  {
   "cell_type": "code",
   "execution_count": null,
   "metadata": {},
   "outputs": [],
   "source": []
  }
 ],
 "metadata": {
  "kernelspec": {
   "display_name": "base",
   "language": "python",
   "name": "python3"
  },
  "language_info": {
   "codemirror_mode": {
    "name": "ipython",
    "version": 3
   },
   "file_extension": ".py",
   "mimetype": "text/x-python",
   "name": "python",
   "nbconvert_exporter": "python",
   "pygments_lexer": "ipython3",
   "version": "3.11.0"
  }
 },
 "nbformat": 4,
 "nbformat_minor": 2
}
