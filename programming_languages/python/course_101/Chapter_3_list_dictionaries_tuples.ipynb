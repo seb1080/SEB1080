{
 "cells": [
  {
   "cell_type": "code",
   "execution_count": 3,
   "metadata": {},
   "outputs": [
    {
     "name": "stdout",
     "output_type": "stream",
     "text": [
      "['a', 'b', 'c']\n"
     ]
    }
   ],
   "source": [
    "# Ref: https://python101.pythonlibrary.org/chapter3_lists_dicts.html\n",
    "\n",
    "# List, it is like array. List are mutable\n",
    "my_list = [1,2,3]\n",
    "new_list = [\"a\", \"b\", \"c\"]\n",
    "list3 = [\"a\", \"1\", 1, \"python\", 5]\n",
    "print(new_list)"
   ]
  },
  {
   "cell_type": "code",
   "execution_count": 4,
   "metadata": {},
   "outputs": [
    {
     "name": "stdout",
     "output_type": "stream",
     "text": [
      "['a', 'b', 'c', 1, 2, 3]\n"
     ]
    }
   ],
   "source": [
    "# Nested List\n",
    "nestedList = [my_list, new_list]\n",
    "# print(nestedList)\n",
    "\n",
    "# Concatenation\n",
    "concatList = []\n",
    "concatList.extend(new_list)\n",
    "concatList.extend(list3)\n",
    "\n",
    "concatList = new_list + my_list\n",
    "print(concatList)"
   ]
  },
  {
   "cell_type": "code",
   "execution_count": 7,
   "metadata": {},
   "outputs": [
    {
     "name": "stdout",
     "output_type": "stream",
     "text": [
      "100\n"
     ]
    }
   ],
   "source": [
    "# Sort List\n",
    "alpha_list = [34, 23, 67, 100, 88, 2]\n",
    "alpha_list.sort()\n",
    "alpha_list\n",
    "\n",
    "# Slice a list\n",
    "alpha_list[0:3]\n",
    "\n",
    "# last item from the list\n",
    "lastItem = alpha_list[-1]\n",
    "print(lastItem)"
   ]
  },
  {
   "cell_type": "code",
   "execution_count": 6,
   "metadata": {},
   "outputs": [
    {
     "name": "stdout",
     "output_type": "stream",
     "text": [
      "(1, 2, 3, 4, 5)\n",
      "abc is of type <class 'tuple'>\n",
      "abc_list is of type <class 'list'>\n"
     ]
    }
   ],
   "source": [
    "# Tuples: A tuples is similar to a list,but you create then with parentheses instead of []\n",
    "# Tuples are immutables\n",
    "# Tuples can't be sorted\n",
    "my_tuples = (1,2,3,4,5)\n",
    "my_tuples[0:3]\n",
    "\n",
    "another_tuple = tuple()\n",
    "abc = tuple(my_tuples)\n",
    "print(abc)\n",
    "\n",
    "# Casting a tuple into a list\n",
    "print(\"abc is of type\", type(abc))\n",
    "abc_list = list(abc)\n",
    "print(\"abc_list is of type\", type(abc_list))\n"
   ]
  },
  {
   "cell_type": "code",
   "execution_count": 11,
   "metadata": {},
   "outputs": [
    {
     "name": "stdout",
     "output_type": "stream",
     "text": [
      "(1, '2', 3, 4, 5, (1, 2, 3, 4, 5))\n"
     ]
    },
    {
     "data": {
      "text/plain": [
       "(1, '2')"
      ]
     },
     "execution_count": 11,
     "metadata": {},
     "output_type": "execute_result"
    }
   ],
   "source": [
    "# Tuples can be nested inside a tuples\n",
    "newTuple = (1, \"2\", 3, 4, 5, my_tuples)\n",
    "print(newTuples)\n",
    "# Tuples can be concatenated\n",
    "secondTuple = newTuple + my_tuples\n",
    "secondTuple[0:2]"
   ]
  },
  {
   "cell_type": "markdown",
   "metadata": {},
   "source": [
    "# Dictionaries\n",
    "\n",
    "A Python dictionary is basically a hash table or a hash map.\n",
    "They are indexed with keys, which can be any immutable type.\n",
    "\n",
    "A string or a number can be a key.\n",
    "\n",
    "THe dictionary is an unordered set of key:value pairs and the keys must be unique."
   ]
  },
  {
   "cell_type": "code",
   "execution_count": 8,
   "metadata": {},
   "outputs": [
    {
     "name": "stdout",
     "output_type": "stream",
     "text": [
      "<class 'dict'>\n",
      "True\n"
     ]
    },
    {
     "data": {
      "text/plain": [
       "dict_keys(['name', 'address'])"
      ]
     },
     "execution_count": 8,
     "metadata": {},
     "output_type": "execute_result"
    }
   ],
   "source": [
    "my_dict = {\"name\":\"Mike\", \"address\":\"123 Happy Way\"}\n",
    "my_dict[\"name\"]\n",
    "another_dict = dict()\n",
    "my_other_dict = {\"one\":1, \"two\":2, \"three\":3}\n",
    "\n",
    "print(type(my_dict))\n",
    "print(\"name\" in my_dict)\n",
    "my_dict.keys()"
   ]
  },
  {
   "cell_type": "code",
   "execution_count": 3,
   "metadata": {},
   "outputs": [
    {
     "data": {
      "text/plain": [
       "4"
      ]
     },
     "execution_count": 3,
     "metadata": {},
     "output_type": "execute_result"
    }
   ],
   "source": [
    "# Set is a collection which is unordered, unchangeable,do not allow duplicate values and unindexed.\n",
    "\n",
    "newSet = {\"apple\", \"banana\", \"cherry\"}\n",
    "secondSet = set((\"chien\", \"cat\", \"rat\", \"cheval\"))\n",
    "len(secondSet)\n",
    "# print(newSet)\n"
   ]
  }
 ],
 "metadata": {
  "kernelspec": {
   "display_name": "base",
   "language": "python",
   "name": "python3"
  },
  "language_info": {
   "codemirror_mode": {
    "name": "ipython",
    "version": 3
   },
   "file_extension": ".py",
   "mimetype": "text/x-python",
   "name": "python",
   "nbconvert_exporter": "python",
   "pygments_lexer": "ipython3",
   "version": "3.11.0"
  },
  "orig_nbformat": 4
 },
 "nbformat": 4,
 "nbformat_minor": 2
}
