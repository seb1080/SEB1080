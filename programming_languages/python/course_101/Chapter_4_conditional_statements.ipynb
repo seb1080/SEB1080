{
 "cells": [
  {
   "cell_type": "code",
   "execution_count": 6,
   "metadata": {},
   "outputs": [
    {
     "name": "stdout",
     "output_type": "stream",
     "text": [
      "This is a true statement!\n"
     ]
    }
   ],
   "source": [
    "# Conditional statements\n",
    "var1 = 1\n",
    "var2 = 0\n",
    "value = int(\"4\")\n",
    "\n",
    "if value > var1:\n",
    "    print(\"This is a true statement!\")\n",
    "elif 10 <= value <= 20:\n",
    "    print(\"value in between\")\n",
    "else:\n",
    "    print(\"This is false\")"
   ]
  },
  {
   "cell_type": "markdown",
   "metadata": {},
   "source": []
  },
  {
   "cell_type": "code",
   "execution_count": 12,
   "metadata": {},
   "outputs": [
    {
     "name": "stdout",
     "output_type": "stream",
     "text": [
      "This statement was True!\n",
      "The statement was False!\n"
     ]
    }
   ],
   "source": [
    "# Boolean Operations: or, and, not\n",
    "x = 10\n",
    "y = 20\n",
    "\n",
    "if x < 10 or y > 15:\n",
    "    print(\"This statement was True!\")\n",
    "\n",
    "x = 10\n",
    "y = 10\n",
    "if x == 10 and y == 15:\n",
    "    print(\"This statement was True\")\n",
    "else:\n",
    "    print(\"The statement was False!\")"
   ]
  },
  {
   "cell_type": "code",
   "execution_count": 11,
   "metadata": {},
   "outputs": [
    {
     "name": "stdout",
     "output_type": "stream",
     "text": [
      "'x' is not in the list, so this is True!\n",
      "x is not equal to 11!\n"
     ]
    }
   ],
   "source": [
    "my_list = [1, 2, 3, 4]\n",
    "x = 10\n",
    "if x not in my_list:\n",
    "    print(\"'x' is not in the list, so this is True!\")\n",
    "\n",
    "x = 10\n",
    "if x != 11:\n",
    "    print(\"x is not equal to 11!\")"
   ]
  },
  {
   "cell_type": "code",
   "execution_count": 15,
   "metadata": {},
   "outputs": [
    {
     "name": "stdout",
     "output_type": "stream",
     "text": [
      "It's an empty list!\n",
      "This is an empty string!\n",
      "Then it's nothing!\n"
     ]
    },
    {
     "data": {
      "text/plain": [
       "False"
      ]
     },
     "execution_count": 15,
     "metadata": {},
     "output_type": "execute_result"
    }
   ],
   "source": [
    "empty_list = []\n",
    "empty_tuple = ()\n",
    "empty_string = \"\"\n",
    "nothing = None\n",
    "\n",
    "if empty_list == []:\n",
    "    print(\"It's an empty list!\")\n",
    "\n",
    "if empty_tuple:\n",
    "    print(\"It's not an empty tuple!\")\n",
    "\n",
    "if not empty_string:\n",
    "    print(\"This is an empty string!\")\n",
    "\n",
    "if not nothing:\n",
    "    print(\"Then it's nothing!\")\n",
    "\n",
    "empty_list == empty_string"
   ]
  },
  {
   "cell_type": "code",
   "execution_count": null,
   "metadata": {},
   "outputs": [],
   "source": [
    "# RThis tells python that you only want to run the followeing code if this program is executed as a standalonne file.\n",
    "if __name__ == \"__main__\":\n",
    "    # do something!\n"
   ]
  }
 ],
 "metadata": {
  "kernelspec": {
   "display_name": "base",
   "language": "python",
   "name": "python3"
  },
  "language_info": {
   "codemirror_mode": {
    "name": "ipython",
    "version": 3
   },
   "file_extension": ".py",
   "mimetype": "text/x-python",
   "name": "python",
   "nbconvert_exporter": "python",
   "pygments_lexer": "ipython3",
   "version": "3.11.0"
  },
  "orig_nbformat": 4
 },
 "nbformat": 4,
 "nbformat_minor": 2
}
