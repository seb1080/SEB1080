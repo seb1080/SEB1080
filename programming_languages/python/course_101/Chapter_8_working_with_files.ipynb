{
 "cells": [
  {
   "cell_type": "code",
   "execution_count": 9,
   "metadata": {},
   "outputs": [
    {
     "name": "stdout",
     "output_type": "stream",
     "text": [
      "This is a test file\n",
      "line 2\n",
      "line 3\n",
      "this line intentionally left blank\n",
      "<_io.TextIOWrapper name='./data/test.csv' mode='r' encoding='UTF-8'>\n"
     ]
    }
   ],
   "source": [
    "# Reading file\n",
    "handle = open(\"./data/test.txt\")\n",
    "textFile = handle.read()\n",
    "print(textFile)\n",
    "handle.close()\n",
    "\n",
    "csvFile = open(\"./data/test.csv\")\n",
    "print(csvFile)"
   ]
  },
  {
   "cell_type": "code",
   "execution_count": 10,
   "metadata": {},
   "outputs": [
    {
     "name": "stdout",
     "output_type": "stream",
     "text": [
      "This is a test file\n",
      "\n",
      "line 2\n",
      "\n",
      "line 3\n",
      "\n",
      "this line intentionally left blank\n"
     ]
    }
   ],
   "source": [
    "handle = open(\"./data/test.txt\", \"r\")\n",
    "\n",
    "for line in handle:\n",
    "    print(line)\n",
    "\n",
    "handle.close()"
   ]
  },
  {
   "cell_type": "code",
   "execution_count": 11,
   "metadata": {},
   "outputs": [
    {
     "name": "stdout",
     "output_type": "stream",
     "text": [
      "This is a test file\n",
      "\n",
      "line 2\n",
      "\n",
      "line 3\n",
      "\n",
      "this line intentionally left blank\n"
     ]
    }
   ],
   "source": [
    "# The 'with' keyword, with is a context manager\n",
    "# Using the 'with' keyword, the programmer don't need to close the handler\n",
    "with open(\"./data/test.txt\") as file_handler:\n",
    "    for line in file_handler:\n",
    "        print(line)"
   ]
  },
  {
   "cell_type": "code",
   "execution_count": 2,
   "metadata": {},
   "outputs": [],
   "source": [
    "# Writing a CSV File\n",
    "import csv\n",
    "\n",
    "def csv_writer(data, path):\n",
    "    with open(path, \"w\", newline='') as csv_file:\n",
    "        writer = csv.writer(csv_file, delimiter=',')\n",
    "        for line in data:\n",
    "            writer.writerow(line)\n",
    "\n",
    "if __name__ == \"__main__\":\n",
    "    data = [\"first_name,last_name,city\".split(\",\"),\n",
    "            \"Tyrese,Hirthe,Strackeport\".split(\",\"),\n",
    "            \"Jules,Dicki,Lake Nickolasville\".split(\",\"),\n",
    "            \"Dedric,Medhurst,Stiedemannberg\".split(\",\")\n",
    "            ]\n",
    "    path = \"output.csv\"\n",
    "    csv_writer(data, path)"
   ]
  },
  {
   "cell_type": "code",
   "execution_count": 5,
   "metadata": {},
   "outputs": [],
   "source": [
    "# Chapter 14 - Configparser\n",
    "import configparser\n",
    "\n",
    "def createConfig(path):\n",
    "    config = configparser.ConfigParser()\n",
    "    config.add_section(\"Settings\")\n",
    "    config.set(\"Settings\", \"font\", \"Courier\")\n",
    "    config.set(\"Settings\", \"font_size\", \"10\")\n",
    "    config.set(\"Settings\", \"font_style\", \"Normal\")\n",
    "    config.set(\"Settings\", \"font_info\",\n",
    "               \"You are using %(font)s at %(font_size)s pt\")\n",
    "\n",
    "    with open(path, \"w\") as config_file:\n",
    "        config.write(config_file)\n",
    "\n",
    "\n",
    "if __name__ == \"__main__\":\n",
    "    path = \"settings.ini\"\n",
    "    createConfig(path)"
   ]
  },
  {
   "cell_type": "code",
   "execution_count": 3,
   "metadata": {},
   "outputs": [
    {
     "name": "stdout",
     "output_type": "stream",
     "text": [
      "This is a test file\n",
      "\n",
      "line 2\n",
      "\n",
      "line 3\n",
      "\n",
      "this line intentionally left blank\n"
     ]
    }
   ],
   "source": [
    "# Catching errors\n",
    "try:\n",
    "    file_handler = open(\"./data/test.txt\")\n",
    "    for line in file_handler:\n",
    "        print(line)\n",
    "except IOError:\n",
    "    print(\"An IOError has occurred!\")\n",
    "finally:\n",
    "    file_handler.close()"
   ]
  },
  {
   "cell_type": "code",
   "execution_count": 4,
   "metadata": {},
   "outputs": [
    {
     "name": "stdout",
     "output_type": "stream",
     "text": [
      "This is a test file\n",
      "\n",
      "line 2\n",
      "\n",
      "line 3\n",
      "\n",
      "this line intentionally left blank\n"
     ]
    }
   ],
   "source": [
    "# Catching errors\n",
    "try:\n",
    "    file_handler = open(\"./data/test.txt\")\n",
    "    for line in file_handler:\n",
    "        print(line)\n",
    "except IOError:\n",
    "    print(\"An IOError has occurred!\")\n",
    "finally:\n",
    "    file_handler.close()\n"
   ]
  }
 ],
 "metadata": {
  "kernelspec": {
   "display_name": "base",
   "language": "python",
   "name": "python3"
  },
  "language_info": {
   "codemirror_mode": {
    "name": "ipython",
    "version": 3
   },
   "file_extension": ".py",
   "mimetype": "text/x-python",
   "name": "python",
   "nbconvert_exporter": "python",
   "pygments_lexer": "ipython3",
   "version": "3.11.0"
  },
  "orig_nbformat": 4
 },
 "nbformat": 4,
 "nbformat_minor": 2
}
