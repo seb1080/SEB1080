{
 "cells": [
  {
   "cell_type": "markdown",
   "metadata": {},
   "source": [
    "Python Basic (Part-1) : https://www.w3resource.com/python-exercises/python-basic-exercises.php"
   ]
  },
  {
   "cell_type": "code",
   "execution_count": 2,
   "metadata": {},
   "outputs": [
    {
     "name": "stdout",
     "output_type": "stream",
     "text": [
      "python version\n",
      "3.11.0 | packaged by conda-forge | (main, Jan 14 2023, 12:25:12) [Clang 14.0.6 ]\n",
      "Version Info\n",
      "sys.version_info(major=3, minor=11, micro=0, releaselevel='final', serial=0)\n"
     ]
    }
   ],
   "source": [
    "# Write a Python program to find out what version of Python you are using.\n",
    "\n",
    "import sys\n",
    "\n",
    "print(\"python version\")\n",
    "print(sys.version)\n",
    "\n",
    "print(\"Version Info\")\n",
    "print(sys.version_info)"
   ]
  },
  {
   "cell_type": "code",
   "execution_count": 7,
   "metadata": {},
   "outputs": [
    {
     "name": "stdout",
     "output_type": "stream",
     "text": [
      "2023-10-09 16:42:50\n"
     ]
    }
   ],
   "source": [
    "# Write a Python program to display the current date and time.\n",
    "from datetime import datetime\n",
    "\n",
    "now = datetime.now()\n",
    "print (now.strftime(\"%Y-%m-%d %H:%M:%S\"))"
   ]
  },
  {
   "cell_type": "code",
   "execution_count": 12,
   "metadata": {},
   "outputs": [
    {
     "name": "stdout",
     "output_type": "stream",
     "text": [
      "Area 3.8013271108436504\n"
     ]
    }
   ],
   "source": [
    "# Write a Python program that calculates the area of a circle based on the radius entered by the user.\n",
    "from math import pi\n",
    "\n",
    "radius = float(input(\"What is the radius if the circle: \"))\n",
    "area = pi * radius**2\n",
    "\n",
    "print(\"Area \" + str(area))\n"
   ]
  },
  {
   "cell_type": "code",
   "execution_count": 15,
   "metadata": {},
   "outputs": [
    {
     "name": "stdout",
     "output_type": "stream",
     "text": [
      "Blais Sebastien\n"
     ]
    }
   ],
   "source": [
    "# Write a Python program that accepts the user's first and last name and prints them in reverse order with a space between them.\n",
    "\n",
    "firstName = input(\"What is your first name ?\")\n",
    "lastName = input(\"What is your last name ?\")\n",
    "\n",
    "fullName = lastName + \" \" + firstName\n",
    "print(fullName)\n"
   ]
  },
  {
   "cell_type": "markdown",
   "metadata": {},
   "source": [
    "Write a Python program that accepts a sequence of comma-separated numbers from the user and generates a list and a tuple of those numbers."
   ]
  },
  {
   "cell_type": "code",
   "execution_count": 17,
   "metadata": {},
   "outputs": [
    {
     "name": "stdout",
     "output_type": "stream",
     "text": [
      "('1', '3', '6', '7', '8')\n"
     ]
    }
   ],
   "source": [
    "sampleData = input(\"Enter a list of number separated by comma\")\n",
    "\n",
    "my_list = list(sampleData.split(\",\"))\n",
    "my_tuple = tuple(sampleData.split(\",\"))\n",
    "print(my_tuple)"
   ]
  },
  {
   "cell_type": "code",
   "execution_count": 18,
   "metadata": {},
   "outputs": [
    {
     "name": "stdout",
     "output_type": "stream",
     "text": [
      "txt\n"
     ]
    }
   ],
   "source": [
    "# Write a Python program that accepts a filename from the user and prints the extension of the file.\n",
    "filename = input(\"Enter a file name?\")\n",
    "listOfSplitFileName = filename.split(\".\")\n",
    "fileExtension = listOfSplitFileName[-1]\n",
    "print(fileExtension)"
   ]
  },
  {
   "cell_type": "code",
   "execution_count": 28,
   "metadata": {},
   "outputs": [
    {
     "name": "stdout",
     "output_type": "stream",
     "text": [
      "11/12/2014\n"
     ]
    }
   ],
   "source": [
    "# Write a Python program to display the examination schedule. (extract the date from exam_st_date)\n",
    "exam_st_date = (11, 12, 2014)\n",
    "displayDate = [str(x) for x in exam_st_date]\n",
    "dateFormated = \"/\".join(displayDate)\n",
    "print(dateFormated)"
   ]
  },
  {
   "cell_type": "code",
   "execution_count": 42,
   "metadata": {},
   "outputs": [
    {
     "name": "stdout",
     "output_type": "stream",
     "text": [
      "Volume 904.78\n"
     ]
    }
   ],
   "source": [
    "# 15 Write a Python program to get the volume of a sphere with radius six.\n",
    "from math import pi\n",
    "\n",
    "radius = float(input(\"What is the radius\"))\n",
    "volume = round(4/3 * pi * radius**3, 2)\n",
    "\n",
    "print(\"Volume \" + str(volume))"
   ]
  }
 ],
 "metadata": {
  "kernelspec": {
   "display_name": "base",
   "language": "python",
   "name": "python3"
  },
  "language_info": {
   "codemirror_mode": {
    "name": "ipython",
    "version": 3
   },
   "file_extension": ".py",
   "mimetype": "text/x-python",
   "name": "python",
   "nbconvert_exporter": "python",
   "pygments_lexer": "ipython3",
   "version": "3.11.0"
  }
 },
 "nbformat": 4,
 "nbformat_minor": 2
}
