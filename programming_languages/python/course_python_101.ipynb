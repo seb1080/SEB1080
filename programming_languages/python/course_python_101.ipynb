{
 "cells": [
  {
   "cell_type": "code",
   "execution_count": 5,
   "metadata": {},
   "outputs": [
    {
     "name": "stdout",
     "output_type": "stream",
     "text": [
      "Hello World!\n"
     ]
    }
   ],
   "source": [
    "# Learning the basics\n",
    "\n",
    "# IDLE\n",
    "# Strings\n",
    "# Lists, Dictionaries and Tuples\n",
    "# Conditional statements\n",
    "# Loops\n",
    "# Comprehensions\n",
    "# Exception Handling\n",
    "# File I/O\n",
    "# Importing modules and packages\n",
    "# Functions\n",
    "# Classes\n",
    "print(\"Hello World!\")"
   ]
  },
  {
   "cell_type": "markdown",
   "metadata": {},
   "source": [
    "# python keywords\n",
    "\n",
    "and       del       from      not       while\n",
    "as        elif      global    or        with\n",
    "assert    else      if        pass      yield\n",
    "break     except    import    print\n",
    "class     exec      in        raise\n",
    "continue  finally   is        return\n",
    "def       for       lambda    try"
   ]
  },
  {
   "cell_type": "code",
   "execution_count": 45,
   "metadata": {},
   "outputs": [
    {
     "name": "stdout",
     "output_type": "stream",
     "text": [
      "I like python\n",
      "I like cookies\n",
      "I like Python and cookies\n"
     ]
    }
   ],
   "source": [
    "# Python data type  string.\n",
    "my_string = \"new string in python\"\n",
    "\n",
    "multiLinestring = '''MultiLine string\n",
    "substring'''\n",
    "\n",
    "my_string = \"I'm a Python programmer!\"\n",
    "otherString = 'The word \"python\" usually refers to a snake'\n",
    "tripleString = \"\"\"Here's another way to embed \"quotes\" in a string\"\"\"\n",
    "\n",
    "# String in python are immutable type.\n",
    "new_string = \"abc\"\n",
    "new_string = \"def\"\n",
    "initial_new_string = id(new_string)\n",
    "\n",
    "# String formatting\n",
    "my_string = \"I like %s\" % \"python\"\n",
    "print(my_string)\n",
    "\n",
    "var = \"cookies\"\n",
    "newString = \"I like %s\" % var\n",
    "print(newString)\n",
    "\n",
    "another_string = \"I like %s and %s\" % (\"Python\", var)\n",
    "another_string\n",
    "print(another_string)"
   ]
  },
  {
   "cell_type": "code",
   "execution_count": 47,
   "metadata": {},
   "outputs": [
    {
     "name": "stdout",
     "output_type": "stream",
     "text": [
      "Python is fun!\n",
      "SPAM SPAM SPAM !\n"
     ]
    }
   ],
   "source": [
    "# Template and new string formatting\n",
    "print(\"%(lang)s is fun!\" % {\"lang\":\"Python\"})\n",
    "\n",
    "print(\"%(value)s %(value)s %(value)s !\" % {\"value\":\"SPAM\"})"
   ]
  },
  {
   "cell_type": "code",
   "execution_count": 34,
   "metadata": {},
   "outputs": [
    {
     "name": "stdout",
     "output_type": "stream",
     "text": [
      "first string second string\n"
     ]
    }
   ],
   "source": [
    "# String concatenation\n",
    "stringOne = \"first string\"\n",
    "stringTwo = \"second string\"\n",
    "\n",
    "final_string = stringOne + \" \" + stringTwo\n",
    "print(final_string)"
   ]
  },
  {
   "cell_type": "code",
   "execution_count": 19,
   "metadata": {},
   "outputs": [
    {
     "name": "stdout",
     "output_type": "stream",
     "text": [
      "123\n"
     ]
    }
   ],
   "source": [
    "# Casting number to string\n",
    "print(str(my_number))\n",
    "\n",
    "my_number = 123\n",
    "x = int(\"123\")\n",
    "\n",
    "print(x)"
   ]
  },
  {
   "cell_type": "code",
   "execution_count": 41,
   "metadata": {},
   "outputs": [
    {
     "name": "stdout",
     "output_type": "stream",
     "text": [
      "SOME NEW STRING\n",
      "some \n"
     ]
    }
   ],
   "source": [
    "# String in python are Object with methods\n",
    "newString = \"some new string\"\n",
    "print(newString.upper())\n",
    "\n",
    "# With a argument, attempt to return a list of valid attributes for that object.\n",
    "# dir(newString)\n",
    "# help(newString.capitalize)\n",
    "sliced = newString[0:5]\n",
    "print(sliced)"
   ]
  }
 ],
 "metadata": {
  "kernelspec": {
   "display_name": "base",
   "language": "python",
   "name": "python3"
  },
  "language_info": {
   "codemirror_mode": {
    "name": "ipython",
    "version": 3
   },
   "file_extension": ".py",
   "mimetype": "text/x-python",
   "name": "python",
   "nbconvert_exporter": "python",
   "pygments_lexer": "ipython3",
   "version": "3.11.0"
  },
  "orig_nbformat": 4
 },
 "nbformat": 4,
 "nbformat_minor": 2
}
