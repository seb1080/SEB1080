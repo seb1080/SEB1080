{
 "cells": [
  {
   "cell_type": "code",
   "execution_count": 12,
   "metadata": {},
   "outputs": [],
   "source": [
    "import geopandas as gpd\n",
    "import requests"
   ]
  },
  {
   "cell_type": "code",
   "execution_count": 13,
   "metadata": {},
   "outputs": [],
   "source": [
    "policeStationUrl = 'https://donnees.montreal.ca/dataset/91f66001-b461-4f63-aff4-cddc0fe30ffe/resource/c9d0b8d6-c7a6-4766-a5cc-98e8b1392bbc/download/pdq.geojson'\n",
    "responseBody = requests.get(url = policeStationUrl).json()\n",
    "policeStations = gpd.GeoDataFrame.from_features(responseBody['features'], crs=\"EPSG:4326\")"
   ]
  },
  {
   "cell_type": "code",
   "execution_count": 14,
   "metadata": {},
   "outputs": [],
   "source": [
    "crimesUrl = 'https://donnees.montreal.ca/dataset/5829b5b0-ea6f-476f-be94-bc2b8797769a/resource/aacc4576-97b3-4d8d-883d-22bbca41dbe6/download/actes-criminels.geojson'\n",
    "responseBody = requests.get(url = crimesUrl).json()\n",
    "crimes = gpd.GeoDataFrame.from_features(responseBody['features'], crs=\"EPSG:4326\")"
   ]
  },
  {
   "cell_type": "markdown",
   "metadata": {},
   "source": [
    "# Explore the police Stations dataset\n",
    "policeStations.describe()\n",
    "# policeStations.explore()\n",
    "policeStations.head(10)"
   ]
  },
  {
   "cell_type": "code",
   "execution_count": 15,
   "metadata": {},
   "outputs": [],
   "source": [
    "# Explore the crimes dataset\n",
    "# crimes.describe()\n",
    "# crimes.inf()\n",
    "# crimesGroupByCategorie = crimes.dissolve(\"CATEGORIE\")\n",
    "# crimes.head(10)"
   ]
  },
  {
   "cell_type": "code",
   "execution_count": 16,
   "metadata": {},
   "outputs": [],
   "source": [
    "# crimes.explore(\"CATEGORIE\", legend=\"true\")\n",
    "crimes = crimes.filter(items=['CATEGORIE', 'DATE', 'PDQ', \"geometry\"])\n",
    "# crimes.shape\n",
    "# crimes"
   ]
  },
  {
   "cell_type": "code",
   "execution_count": 17,
   "metadata": {},
   "outputs": [],
   "source": [
    "stolenCar = crimes[crimes[\"CATEGORIE\"].str.contains(\"Vol de véhicule à moteur\")]\n",
    "# stolenCar2023 = stolenCar[stolenCar[\"DATE\"].str.contains(\"2023-\")]"
   ]
  },
  {
   "cell_type": "markdown",
   "metadata": {},
   "source": [
    "# Questions\n",
    "\n",
    "1. Est-ce-qu'il y a une progression du nombre de crimes par an sur l'ensemble de la période ?\n",
    "2. Est-ce-qu'il y a un effet de saisonnalité dans les crimes ?\n",
    "3. Est-ce-qu'il y a un jour plus propice au vol de voitures ?"
   ]
  },
  {
   "cell_type": "code",
   "execution_count": 24,
   "metadata": {},
   "outputs": [
    {
     "data": {
      "text/html": [
       "<div>\n",
       "<style scoped>\n",
       "    .dataframe tbody tr th:only-of-type {\n",
       "        vertical-align: middle;\n",
       "    }\n",
       "\n",
       "    .dataframe tbody tr th {\n",
       "        vertical-align: top;\n",
       "    }\n",
       "\n",
       "    .dataframe thead th {\n",
       "        text-align: right;\n",
       "    }\n",
       "</style>\n",
       "<table border=\"1\" class=\"dataframe\">\n",
       "  <thead>\n",
       "    <tr style=\"text-align: right;\">\n",
       "      <th></th>\n",
       "      <th>geometry</th>\n",
       "      <th>CATEGORIE</th>\n",
       "      <th>DATE</th>\n",
       "      <th>PDQ</th>\n",
       "    </tr>\n",
       "  </thead>\n",
       "  <tbody>\n",
       "    <tr>\n",
       "      <th>0</th>\n",
       "      <td>POINT (-73.62678 45.56778)</td>\n",
       "      <td>Vol de véhicule à moteur</td>\n",
       "      <td>2018-09-13</td>\n",
       "      <td>30.0</td>\n",
       "    </tr>\n",
       "    <tr>\n",
       "      <th>1</th>\n",
       "      <td>POINT (-73.62678 45.56778)</td>\n",
       "      <td>Vol de véhicule à moteur</td>\n",
       "      <td>2018-04-30</td>\n",
       "      <td>30.0</td>\n",
       "    </tr>\n",
       "    <tr>\n",
       "      <th>2</th>\n",
       "      <td>POINT (-73.68593 45.51912)</td>\n",
       "      <td>Vol de véhicule à moteur</td>\n",
       "      <td>2018-09-01</td>\n",
       "      <td>7.0</td>\n",
       "    </tr>\n",
       "    <tr>\n",
       "      <th>5</th>\n",
       "      <td>POINT (-76.23729 0.00000)</td>\n",
       "      <td>Vol de véhicule à moteur</td>\n",
       "      <td>2017-07-30</td>\n",
       "      <td>21.0</td>\n",
       "    </tr>\n",
       "    <tr>\n",
       "      <th>10</th>\n",
       "      <td>POINT (-73.74087 45.44379)</td>\n",
       "      <td>Vol de véhicule à moteur</td>\n",
       "      <td>2017-08-01</td>\n",
       "      <td>5.0</td>\n",
       "    </tr>\n",
       "    <tr>\n",
       "      <th>...</th>\n",
       "      <td>...</td>\n",
       "      <td>...</td>\n",
       "      <td>...</td>\n",
       "      <td>...</td>\n",
       "    </tr>\n",
       "    <tr>\n",
       "      <th>267816</th>\n",
       "      <td>POINT (-76.23729 0.00000)</td>\n",
       "      <td>Vol de véhicule à moteur</td>\n",
       "      <td>2023-04-20</td>\n",
       "      <td>27.0</td>\n",
       "    </tr>\n",
       "    <tr>\n",
       "      <th>267817</th>\n",
       "      <td>POINT (-76.23729 0.00000)</td>\n",
       "      <td>Vol de véhicule à moteur</td>\n",
       "      <td>2023-05-22</td>\n",
       "      <td>31.0</td>\n",
       "    </tr>\n",
       "    <tr>\n",
       "      <th>267819</th>\n",
       "      <td>POINT (-76.23729 0.00000)</td>\n",
       "      <td>Vol de véhicule à moteur</td>\n",
       "      <td>2023-01-05</td>\n",
       "      <td>35.0</td>\n",
       "    </tr>\n",
       "    <tr>\n",
       "      <th>267820</th>\n",
       "      <td>POINT (-76.23729 0.00000)</td>\n",
       "      <td>Vol de véhicule à moteur</td>\n",
       "      <td>2023-04-18</td>\n",
       "      <td>31.0</td>\n",
       "    </tr>\n",
       "    <tr>\n",
       "      <th>267834</th>\n",
       "      <td>POINT (-76.23729 0.00000)</td>\n",
       "      <td>Vol de véhicule à moteur</td>\n",
       "      <td>2023-01-19</td>\n",
       "      <td>44.0</td>\n",
       "    </tr>\n",
       "  </tbody>\n",
       "</table>\n",
       "<p>51272 rows × 4 columns</p>\n",
       "</div>"
      ],
      "text/plain": [
       "                          geometry                 CATEGORIE        DATE   PDQ\n",
       "0       POINT (-73.62678 45.56778)  Vol de véhicule à moteur  2018-09-13  30.0\n",
       "1       POINT (-73.62678 45.56778)  Vol de véhicule à moteur  2018-04-30  30.0\n",
       "2       POINT (-73.68593 45.51912)  Vol de véhicule à moteur  2018-09-01   7.0\n",
       "5        POINT (-76.23729 0.00000)  Vol de véhicule à moteur  2017-07-30  21.0\n",
       "10      POINT (-73.74087 45.44379)  Vol de véhicule à moteur  2017-08-01   5.0\n",
       "...                            ...                       ...         ...   ...\n",
       "267816   POINT (-76.23729 0.00000)  Vol de véhicule à moteur  2023-04-20  27.0\n",
       "267817   POINT (-76.23729 0.00000)  Vol de véhicule à moteur  2023-05-22  31.0\n",
       "267819   POINT (-76.23729 0.00000)  Vol de véhicule à moteur  2023-01-05  35.0\n",
       "267820   POINT (-76.23729 0.00000)  Vol de véhicule à moteur  2023-04-18  31.0\n",
       "267834   POINT (-76.23729 0.00000)  Vol de véhicule à moteur  2023-01-19  44.0\n",
       "\n",
       "[51272 rows x 4 columns]"
      ]
     },
     "execution_count": 24,
     "metadata": {},
     "output_type": "execute_result"
    }
   ],
   "source": [
    "# 1. Est-ce-qu'il y a une progression du nombre de crimes par an sur l'ensemble de la période ?\n",
    "stolenCar"
   ]
  },
  {
   "cell_type": "code",
   "execution_count": 19,
   "metadata": {},
   "outputs": [],
   "source": [
    "# stolenCar2023.explore(\"PDQ\", legend=False, tiles=\"CartoDB dark_matter\")"
   ]
  },
  {
   "cell_type": "markdown",
   "metadata": {},
   "source": []
  }
 ],
 "metadata": {
  "kernelspec": {
   "display_name": "geoenv",
   "language": "python",
   "name": "python3"
  },
  "language_info": {
   "codemirror_mode": {
    "name": "ipython",
    "version": 3
   },
   "file_extension": ".py",
   "mimetype": "text/x-python",
   "name": "python",
   "nbconvert_exporter": "python",
   "pygments_lexer": "ipython3",
   "version": "3.11.5"
  }
 },
 "nbformat": 4,
 "nbformat_minor": 2
}
