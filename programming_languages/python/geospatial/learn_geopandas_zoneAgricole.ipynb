{
 "cells": [
  {
   "cell_type": "markdown",
   "metadata": {},
   "source": [
    "### Exploration des données: Index : accès au Relief Agricole issu du LiDAR (feuillets des courbes de niveau de 1 m)\n",
    "\n",
    "ref: https://www.donneesquebec.ca/recherche/dataset/relief-agricole-issu-du-lidar/resource/3075b848-37d9-4c81-9cba-215a9219243a"
   ]
  },
  {
   "cell_type": "code",
   "execution_count": 1,
   "metadata": {},
   "outputs": [],
   "source": [
    "import geopandas as gpd\n",
    "\n",
    "zoneAgricole = gpd.read_file(\"./data/zone_agricoles_permanentes.geojson\")"
   ]
  },
  {
   "cell_type": "code",
   "execution_count": 14,
   "metadata": {},
   "outputs": [
    {
     "data": {
      "text/html": [
       "<div>\n",
       "<style scoped>\n",
       "    .dataframe tbody tr th:only-of-type {\n",
       "        vertical-align: middle;\n",
       "    }\n",
       "\n",
       "    .dataframe tbody tr th {\n",
       "        vertical-align: top;\n",
       "    }\n",
       "\n",
       "    .dataframe thead th {\n",
       "        text-align: right;\n",
       "    }\n",
       "</style>\n",
       "<table border=\"1\" class=\"dataframe\">\n",
       "  <thead>\n",
       "    <tr style=\"text-align: right;\">\n",
       "      <th></th>\n",
       "      <th>ID</th>\n",
       "      <th>SUPERFICIE</th>\n",
       "      <th>PERIMETRE</th>\n",
       "      <th>area</th>\n",
       "    </tr>\n",
       "  </thead>\n",
       "  <tbody>\n",
       "    <tr>\n",
       "      <th>count</th>\n",
       "      <td>45.000000</td>\n",
       "      <td>4.500000e+01</td>\n",
       "      <td>45.000000</td>\n",
       "      <td>4.500000e+01</td>\n",
       "    </tr>\n",
       "    <tr>\n",
       "      <th>mean</th>\n",
       "      <td>100030.577778</td>\n",
       "      <td>2.750687e+06</td>\n",
       "      <td>4180.571111</td>\n",
       "      <td>3.240343e-04</td>\n",
       "    </tr>\n",
       "    <tr>\n",
       "      <th>std</th>\n",
       "      <td>13.703830</td>\n",
       "      <td>1.687147e+07</td>\n",
       "      <td>12039.930408</td>\n",
       "      <td>1.987148e-03</td>\n",
       "    </tr>\n",
       "    <tr>\n",
       "      <th>min</th>\n",
       "      <td>100007.000000</td>\n",
       "      <td>4.282000e+02</td>\n",
       "      <td>240.300000</td>\n",
       "      <td>5.050691e-08</td>\n",
       "    </tr>\n",
       "    <tr>\n",
       "      <th>25%</th>\n",
       "      <td>100019.000000</td>\n",
       "      <td>2.912010e+04</td>\n",
       "      <td>847.100000</td>\n",
       "      <td>3.436348e-06</td>\n",
       "    </tr>\n",
       "    <tr>\n",
       "      <th>50%</th>\n",
       "      <td>100031.000000</td>\n",
       "      <td>8.169310e+04</td>\n",
       "      <td>1938.500000</td>\n",
       "      <td>9.640858e-06</td>\n",
       "    </tr>\n",
       "    <tr>\n",
       "      <th>75%</th>\n",
       "      <td>100042.000000</td>\n",
       "      <td>1.687650e+05</td>\n",
       "      <td>3022.200000</td>\n",
       "      <td>1.992897e-05</td>\n",
       "    </tr>\n",
       "    <tr>\n",
       "      <th>max</th>\n",
       "      <td>100053.000000</td>\n",
       "      <td>1.133344e+08</td>\n",
       "      <td>81446.800000</td>\n",
       "      <td>1.334871e-02</td>\n",
       "    </tr>\n",
       "  </tbody>\n",
       "</table>\n",
       "</div>"
      ],
      "text/plain": [
       "                  ID    SUPERFICIE     PERIMETRE          area\n",
       "count      45.000000  4.500000e+01     45.000000  4.500000e+01\n",
       "mean   100030.577778  2.750687e+06   4180.571111  3.240343e-04\n",
       "std        13.703830  1.687147e+07  12039.930408  1.987148e-03\n",
       "min    100007.000000  4.282000e+02    240.300000  5.050691e-08\n",
       "25%    100019.000000  2.912010e+04    847.100000  3.436348e-06\n",
       "50%    100031.000000  8.169310e+04   1938.500000  9.640858e-06\n",
       "75%    100042.000000  1.687650e+05   3022.200000  1.992897e-05\n",
       "max    100053.000000  1.133344e+08  81446.800000  1.334871e-02"
      ]
     },
     "execution_count": 14,
     "metadata": {},
     "output_type": "execute_result"
    }
   ],
   "source": [
    "# zoneAgricole.info()\n",
    "# zoneAgricole.head()\n",
    "zoneAgricole.describe()"
   ]
  },
  {
   "cell_type": "code",
   "execution_count": 17,
   "metadata": {},
   "outputs": [
    {
     "name": "stderr",
     "output_type": "stream",
     "text": [
      "/var/folders/jw/twx63rq17tjbgssr92x34s080000gq/T/ipykernel_22639/1956840859.py:1: UserWarning: Geometry is in a geographic CRS. Results from 'area' are likely incorrect. Use 'GeoSeries.to_crs()' to re-project geometries to a projected CRS before this operation.\n",
      "\n",
      "  zoneAgricole[\"area\"] = zoneAgricole.area\n",
      "/var/folders/jw/twx63rq17tjbgssr92x34s080000gq/T/ipykernel_22639/1956840859.py:3: UserWarning: Geometry is in a geographic CRS. Results from 'centroid' are likely incorrect. Use 'GeoSeries.to_crs()' to re-project geometries to a projected CRS before this operation.\n",
      "\n",
      "  zoneAgricole[\"centroid\"] = zoneAgricole.centroid\n"
     ]
    }
   ],
   "source": [
    "zoneAgricole[\"area\"] = zoneAgricole.area\n",
    "zoneAgricole[\"boundary\"] = zoneAgricole.boundary\n",
    "zoneAgricole[\"centroid\"] = zoneAgricole.centroid"
   ]
  },
  {
   "cell_type": "markdown",
   "metadata": {},
   "source": []
  },
  {
   "cell_type": "code",
   "execution_count": 19,
   "metadata": {},
   "outputs": [
    {
     "data": {
      "text/html": [
       "<div>\n",
       "<style scoped>\n",
       "    .dataframe tbody tr th:only-of-type {\n",
       "        vertical-align: middle;\n",
       "    }\n",
       "\n",
       "    .dataframe tbody tr th {\n",
       "        vertical-align: top;\n",
       "    }\n",
       "\n",
       "    .dataframe thead th {\n",
       "        text-align: right;\n",
       "    }\n",
       "</style>\n",
       "<table border=\"1\" class=\"dataframe\">\n",
       "  <thead>\n",
       "    <tr style=\"text-align: right;\">\n",
       "      <th></th>\n",
       "      <th>ID</th>\n",
       "      <th>SUPERFICIE</th>\n",
       "      <th>PERIMETRE</th>\n",
       "      <th>geometry</th>\n",
       "      <th>area</th>\n",
       "      <th>boundary</th>\n",
       "      <th>centroid</th>\n",
       "    </tr>\n",
       "  </thead>\n",
       "  <tbody>\n",
       "    <tr>\n",
       "      <th>0</th>\n",
       "      <td>100008</td>\n",
       "      <td>113334398.6</td>\n",
       "      <td>81446.8</td>\n",
       "      <td>POLYGON ((-71.40982 46.73903, -71.40985 46.739...</td>\n",
       "      <td>1.334871e-02</td>\n",
       "      <td>MULTILINESTRING ((-71.40982 46.73903, -71.4098...</td>\n",
       "      <td>POINT (-71.47614 46.77167)</td>\n",
       "    </tr>\n",
       "    <tr>\n",
       "      <th>1</th>\n",
       "      <td>100009</td>\n",
       "      <td>3978545.8</td>\n",
       "      <td>14452.8</td>\n",
       "      <td>POLYGON ((-71.22817 46.87973, -71.22820 46.879...</td>\n",
       "      <td>4.695959e-04</td>\n",
       "      <td>LINESTRING (-71.22817 46.87973, -71.22820 46.8...</td>\n",
       "      <td>POINT (-71.23116 46.88398)</td>\n",
       "    </tr>\n",
       "    <tr>\n",
       "      <th>2</th>\n",
       "      <td>100010</td>\n",
       "      <td>35614.5</td>\n",
       "      <td>847.1</td>\n",
       "      <td>POLYGON ((-71.33810 46.79820, -71.33935 46.797...</td>\n",
       "      <td>4.196973e-06</td>\n",
       "      <td>LINESTRING (-71.33810 46.79820, -71.33935 46.7...</td>\n",
       "      <td>POINT (-71.33938 46.79858)</td>\n",
       "    </tr>\n",
       "    <tr>\n",
       "      <th>3</th>\n",
       "      <td>100011</td>\n",
       "      <td>7965.9</td>\n",
       "      <td>383.0</td>\n",
       "      <td>POLYGON ((-71.25229 46.88345, -71.25229 46.883...</td>\n",
       "      <td>9.402146e-07</td>\n",
       "      <td>LINESTRING (-71.25229 46.88345, -71.25229 46.8...</td>\n",
       "      <td>POINT (-71.25145 46.88325)</td>\n",
       "    </tr>\n",
       "    <tr>\n",
       "      <th>4</th>\n",
       "      <td>100012</td>\n",
       "      <td>35693.9</td>\n",
       "      <td>1967.1</td>\n",
       "      <td>POLYGON ((-71.24282 46.89585, -71.24236 46.895...</td>\n",
       "      <td>4.212750e-06</td>\n",
       "      <td>LINESTRING (-71.24282 46.89585, -71.24236 46.8...</td>\n",
       "      <td>POINT (-71.24461 46.89198)</td>\n",
       "    </tr>\n",
       "  </tbody>\n",
       "</table>\n",
       "</div>"
      ],
      "text/plain": [
       "       ID   SUPERFICIE  PERIMETRE  \\\n",
       "0  100008  113334398.6    81446.8   \n",
       "1  100009    3978545.8    14452.8   \n",
       "2  100010      35614.5      847.1   \n",
       "3  100011       7965.9      383.0   \n",
       "4  100012      35693.9     1967.1   \n",
       "\n",
       "                                            geometry          area  \\\n",
       "0  POLYGON ((-71.40982 46.73903, -71.40985 46.739...  1.334871e-02   \n",
       "1  POLYGON ((-71.22817 46.87973, -71.22820 46.879...  4.695959e-04   \n",
       "2  POLYGON ((-71.33810 46.79820, -71.33935 46.797...  4.196973e-06   \n",
       "3  POLYGON ((-71.25229 46.88345, -71.25229 46.883...  9.402146e-07   \n",
       "4  POLYGON ((-71.24282 46.89585, -71.24236 46.895...  4.212750e-06   \n",
       "\n",
       "                                            boundary  \\\n",
       "0  MULTILINESTRING ((-71.40982 46.73903, -71.4098...   \n",
       "1  LINESTRING (-71.22817 46.87973, -71.22820 46.8...   \n",
       "2  LINESTRING (-71.33810 46.79820, -71.33935 46.7...   \n",
       "3  LINESTRING (-71.25229 46.88345, -71.25229 46.8...   \n",
       "4  LINESTRING (-71.24282 46.89585, -71.24236 46.8...   \n",
       "\n",
       "                     centroid  \n",
       "0  POINT (-71.47614 46.77167)  \n",
       "1  POINT (-71.23116 46.88398)  \n",
       "2  POINT (-71.33938 46.79858)  \n",
       "3  POINT (-71.25145 46.88325)  \n",
       "4  POINT (-71.24461 46.89198)  "
      ]
     },
     "execution_count": 19,
     "metadata": {},
     "output_type": "execute_result"
    }
   ],
   "source": [
    "zoneAgricole.head()"
   ]
  },
  {
   "cell_type": "code",
   "execution_count": null,
   "metadata": {},
   "outputs": [],
   "source": [
    "# zoneAgricole.explore(\"area\", legend=False)"
   ]
  }
 ],
 "metadata": {
  "kernelspec": {
   "display_name": "geoenv",
   "language": "python",
   "name": "python3"
  },
  "language_info": {
   "codemirror_mode": {
    "name": "ipython",
    "version": 3
   },
   "file_extension": ".py",
   "mimetype": "text/x-python",
   "name": "python",
   "nbconvert_exporter": "python",
   "pygments_lexer": "ipython3",
   "version": "3.11.5"
  }
 },
 "nbformat": 4,
 "nbformat_minor": 2
}
